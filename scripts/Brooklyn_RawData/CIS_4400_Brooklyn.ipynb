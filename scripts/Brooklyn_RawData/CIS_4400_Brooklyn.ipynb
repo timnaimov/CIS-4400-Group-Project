{
  "cells": [
    {
      "cell_type": "code",
      "execution_count": null,
      "metadata": {
        "id": "fqvQIOrvZiHJ"
      },
      "outputs": [],
      "source": [
        "import pandas as pd\n",
        "import numpy as np\n",
        "import requests\n",
        "import json"
      ]
    },
    {
      "cell_type": "code",
      "execution_count": null,
      "metadata": {
        "id": "qlQnSn8Xa_4B"
      },
      "outputs": [],
      "source": [
        "import requests\n",
        "from bs4 import BeautifulSoup\n",
        "\n",
        "# URL of the website listing restaurants in Brooklyn\n",
        "url = \"https://data.cityofnewyork.us/api/views/43nn-pn8j/rows.csv?fourfour=43nn-pn8j&cacheBust=1711046033&date=20240322&accessType=DOWNLOAD\"\n",
        "\n",
        "# Send a GET request to the URL\n",
        "response = requests.get(url)\n",
        "\n",
        "# Check if the request was successful (status code 200)\n",
        "if response.status_code == 200:\n",
        "    # Parse the HTML content of the page\n",
        "    soup = BeautifulSoup(response.content, 'html.parser')\n",
        "\n",
        "    # Find all elements containing restaurant information\n",
        "    restaurant_elements = soup.find_all('div', class_='restaurant')\n",
        "\n",
        "    # Iterate over each restaurant element and extract relevant information\n",
        "    for restaurant in restaurant_elements:\n",
        "        # Extract restaurant name\n",
        "        name = restaurant.find('h2', class_='name').text.strip()\n",
        "\n",
        "        # Extract restaurant address\n",
        "        address = restaurant.find('p', class_='address').text.strip()\n",
        "\n",
        "        # Check if the restaurant is located in Brooklyn (you may need to adjust this logic based on the website structure)\n",
        "        if 'Brooklyn' in address:\n",
        "            print(f\"Name: {name}, Address: {address}\")\n",
        "\n",
        "else:\n",
        "    print('Failed to retrieve the webpage.')\n"
      ]
    },
    {
      "cell_type": "code",
      "execution_count": null,
      "metadata": {
        "colab": {
          "base_uri": "https://localhost:8080/"
        },
        "id": "RXX802hw0v6M",
        "outputId": "742d4dac-224e-480f-ea3f-089cfd9a1150"
      },
      "outputs": [
        {
          "name": "stdout",
          "output_type": "stream",
          "text": [
            "CSV file has been downloaded and saved as 'restaurant_data.csv'.\n"
          ]
        }
      ],
      "source": [
        "import requests\n",
        "\n",
        "# The URL from which to download the CSV\n",
        "RESTAURANT_URL = \"https://data.cityofnewyork.us/api/views/43nn-pn8j/rows.csv?fourfour=43nn-pn8j&cacheBust=1711046033&date=20240322&accessType=DOWNLOAD\"\n",
        "\n",
        "# Send a GET request to the URL\n",
        "response = requests.get(RESTAURANT_URL)\n",
        "\n",
        "# Check if the request was successful\n",
        "if response.status_code == 200:\n",
        "\n",
        "    # Open a file in binary write mode\n",
        "    with open('restaurant_data.csv', 'wb') as file:\n",
        "        # Write the content of the response to the file\n",
        "        file.write(response.content)\n",
        "\n",
        "    print(\"CSV file has been downloaded and saved as 'restaurant_data.csv'.\")\n",
        "\n",
        "else:\n",
        "    print(f\"Failed to download the file. Status code: {response.status_code}\")\n"
      ]
    },
    {
      "cell_type": "code",
      "execution_count": null,
      "metadata": {
        "colab": {
          "base_uri": "https://localhost:8080/"
        },
        "id": "TzeGNMrOX1WS",
        "outputId": "bc76f4a9-3733-47be-e8c6-0dce3fdab88f"
      },
      "outputs": [
        {
          "name": "stdout",
          "output_type": "stream",
          "text": [
            "['GOLD STAR BEER COUNTER' 'CITI FIELD STAND 335' nan ...\n",
            " \"TONY'S ORIGINAL PIZZERIA\" 'Herbal Dispense' 'ROSCIOLI']\n"
          ]
        }
      ],
      "source": [
        "import pandas as pd\n",
        "\n",
        "#turning csv file into a datframe\n",
        "df = pd.read_csv('restaurant_data.csv')\n",
        "\n",
        "#colums that need to be kept\n",
        "columns_keep = ['DBA','BORO','BUILDING', 'STREET,'ZIPCODE', 'PHONE','CUISINE DESCRIPTION', 'Latitude','Longitude']\n",
        "unique_restaurant_names = df['DBA'].unique()\n",
        "print(unique_restaurant_names)\n"
      ]
    },
    {
      "cell_type": "code",
      "execution_count": null,
      "metadata": {
        "colab": {
          "base_uri": "https://localhost:8080/"
        },
        "id": "I6qHk1AJY11B",
        "outputId": "5972911e-e15c-4640-b160-39e13fd47ca9"
      },
      "outputs": [
        {
          "data": {
            "text/plain": [
              "22508"
            ]
          },
          "execution_count": 5,
          "metadata": {},
          "output_type": "execute_result"
        }
      ],
      "source": [
        "len(unique_restaurant_names)"
      ]
    },
    {
      "cell_type": "code",
      "execution_count": null,
      "metadata": {
        "colab": {
          "base_uri": "https://localhost:8080/"
        },
        "id": "3BzueRQeZDhp",
        "outputId": "e62a50ce-f818-4aec-dd76-f37bed1d8cc9"
      },
      "outputs": [
        {
          "data": {
            "text/plain": [
              "Index(['CAMIS', 'DBA', 'BORO', 'BUILDING', 'STREET', 'ZIPCODE', 'PHONE',\n",
              "       'CUISINE DESCRIPTION', 'INSPECTION DATE', 'ACTION', 'VIOLATION CODE',\n",
              "       'VIOLATION DESCRIPTION', 'CRITICAL FLAG', 'SCORE', 'GRADE',\n",
              "       'GRADE DATE', 'RECORD DATE', 'INSPECTION TYPE', 'Latitude', 'Longitude',\n",
              "       'Community Board', 'Council District', 'Census Tract', 'BIN', 'BBL',\n",
              "       'NTA', 'Location Point1'],\n",
              "      dtype='object')"
            ]
          },
          "execution_count": 6,
          "metadata": {},
          "output_type": "execute_result"
        }
      ],
      "source": [
        "df.columns"
      ]
    }
  ],
  "metadata": {
    "colab": {
      "provenance": []
    },
    "kernelspec": {
      "display_name": "Python 3",
      "name": "python3"
    },
    "language_info": {
      "name": "python"
    }
  },
  "nbformat": 4,
  "nbformat_minor": 0
}
