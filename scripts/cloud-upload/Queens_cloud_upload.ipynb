{
  "nbformat": 4,
  "nbformat_minor": 0,
  "metadata": {
    "colab": {
      "provenance": []
    },
    "kernelspec": {
      "name": "python3",
      "display_name": "Python 3"
    },
    "language_info": {
      "name": "python"
    }
  },
  "cells": [
    {
      "cell_type": "code",
      "source": [
        "import pandas as pd\n",
        "import numpy as np\n",
        "import requests\n",
        "import json\n",
        "from io import StringIO"
      ],
      "metadata": {
        "id": "Ao5ZdJqx8fhu"
      },
      "execution_count": 1,
      "outputs": []
    },
    {
      "cell_type": "code",
      "source": [
        "# The URL from which to download the CSV\n",
        "RESTAURANT_URL = \"https://data.cityofnewyork.us/api/views/43nn-pn8j/rows.csv?fourfour=43nn-pn8j&cacheBust=1711046033&date=20240322&accessType=DOWNLOAD\"\n",
        "\n",
        "# Send a GET request to the URL\n",
        "response = requests.get(RESTAURANT_URL)\n",
        "# Check if the request was successful\n",
        "if response.status_code == 200:\n",
        "    # Open a file in binary write mode\n",
        "    with open('restaurant_data.csv', 'wb') as file:\n",
        "        # Write the content of the response to the file\n",
        "        file.write(response.content)\n",
        "    print(\"CSV file has been downloaded and saved as 'restaurant_data.csv'.\")\n",
        "else:\n",
        "    print(f\"Failed to download the file. Status code: {response.status_code}\")"
      ],
      "metadata": {
        "colab": {
          "base_uri": "https://localhost:8080/"
        },
        "id": "sHBPn5cT8lxJ",
        "outputId": "6071aed5-4f9b-472d-8cc4-21106654b0f1"
      },
      "execution_count": 2,
      "outputs": [
        {
          "output_type": "stream",
          "name": "stdout",
          "text": [
            "CSV file has been downloaded and saved as 'restaurant_data.csv'.\n"
          ]
        }
      ]
    },
    {
      "cell_type": "code",
      "source": [
        "# Load the CSV file into a DataFrame\n",
        "df = pd.read_csv('restaurant_data.csv')\n",
        "\n",
        "df_queens = df[df['BORO'] == 'Queens']"
      ],
      "metadata": {
        "id": "esZHXTKA8pJ0"
      },
      "execution_count": 3,
      "outputs": []
    },
    {
      "cell_type": "code",
      "source": [
        "df_queens.shape"
      ],
      "metadata": {
        "id": "ig04XqVd9JeU",
        "colab": {
          "base_uri": "https://localhost:8080/"
        },
        "outputId": "9f761583-f953-4fbc-a4d3-d83a6fe9b758"
      },
      "execution_count": 4,
      "outputs": [
        {
          "output_type": "execute_result",
          "data": {
            "text/plain": [
              "(53748, 27)"
            ]
          },
          "metadata": {},
          "execution_count": 4
        }
      ]
    },
    {
      "cell_type": "code",
      "source": [
        "Queens_df = pd.concat([df_queens], ignore_index=True)"
      ],
      "metadata": {
        "id": "7VVAnO9Abfro"
      },
      "execution_count": 5,
      "outputs": []
    },
    {
      "cell_type": "code",
      "source": [
        "!pip install google-cloud-storage"
      ],
      "metadata": {
        "id": "d0i-3G03HZ0Z",
        "colab": {
          "base_uri": "https://localhost:8080/"
        },
        "outputId": "9ca97f0a-8937-4c57-ce3a-b036bd1b090f"
      },
      "execution_count": 6,
      "outputs": [
        {
          "output_type": "stream",
          "name": "stdout",
          "text": [
            "Requirement already satisfied: google-cloud-storage in /usr/local/lib/python3.10/dist-packages (2.8.0)\n",
            "Requirement already satisfied: google-auth<3.0dev,>=1.25.0 in /usr/local/lib/python3.10/dist-packages (from google-cloud-storage) (2.27.0)\n",
            "Requirement already satisfied: google-api-core!=2.0.*,!=2.1.*,!=2.2.*,!=2.3.0,<3.0.0dev,>=1.31.5 in /usr/local/lib/python3.10/dist-packages (from google-cloud-storage) (2.11.1)\n",
            "Requirement already satisfied: google-cloud-core<3.0dev,>=2.3.0 in /usr/local/lib/python3.10/dist-packages (from google-cloud-storage) (2.3.3)\n",
            "Requirement already satisfied: google-resumable-media>=2.3.2 in /usr/local/lib/python3.10/dist-packages (from google-cloud-storage) (2.7.0)\n",
            "Requirement already satisfied: requests<3.0.0dev,>=2.18.0 in /usr/local/lib/python3.10/dist-packages (from google-cloud-storage) (2.31.0)\n",
            "Requirement already satisfied: googleapis-common-protos<2.0.dev0,>=1.56.2 in /usr/local/lib/python3.10/dist-packages (from google-api-core!=2.0.*,!=2.1.*,!=2.2.*,!=2.3.0,<3.0.0dev,>=1.31.5->google-cloud-storage) (1.63.0)\n",
            "Requirement already satisfied: protobuf!=3.20.0,!=3.20.1,!=4.21.0,!=4.21.1,!=4.21.2,!=4.21.3,!=4.21.4,!=4.21.5,<5.0.0.dev0,>=3.19.5 in /usr/local/lib/python3.10/dist-packages (from google-api-core!=2.0.*,!=2.1.*,!=2.2.*,!=2.3.0,<3.0.0dev,>=1.31.5->google-cloud-storage) (3.20.3)\n",
            "Requirement already satisfied: cachetools<6.0,>=2.0.0 in /usr/local/lib/python3.10/dist-packages (from google-auth<3.0dev,>=1.25.0->google-cloud-storage) (5.3.3)\n",
            "Requirement already satisfied: pyasn1-modules>=0.2.1 in /usr/local/lib/python3.10/dist-packages (from google-auth<3.0dev,>=1.25.0->google-cloud-storage) (0.4.0)\n",
            "Requirement already satisfied: rsa<5,>=3.1.4 in /usr/local/lib/python3.10/dist-packages (from google-auth<3.0dev,>=1.25.0->google-cloud-storage) (4.9)\n",
            "Requirement already satisfied: google-crc32c<2.0dev,>=1.0 in /usr/local/lib/python3.10/dist-packages (from google-resumable-media>=2.3.2->google-cloud-storage) (1.5.0)\n",
            "Requirement already satisfied: charset-normalizer<4,>=2 in /usr/local/lib/python3.10/dist-packages (from requests<3.0.0dev,>=2.18.0->google-cloud-storage) (3.3.2)\n",
            "Requirement already satisfied: idna<4,>=2.5 in /usr/local/lib/python3.10/dist-packages (from requests<3.0.0dev,>=2.18.0->google-cloud-storage) (3.7)\n",
            "Requirement already satisfied: urllib3<3,>=1.21.1 in /usr/local/lib/python3.10/dist-packages (from requests<3.0.0dev,>=2.18.0->google-cloud-storage) (2.0.7)\n",
            "Requirement already satisfied: certifi>=2017.4.17 in /usr/local/lib/python3.10/dist-packages (from requests<3.0.0dev,>=2.18.0->google-cloud-storage) (2024.2.2)\n",
            "Requirement already satisfied: pyasn1<0.7.0,>=0.4.6 in /usr/local/lib/python3.10/dist-packages (from pyasn1-modules>=0.2.1->google-auth<3.0dev,>=1.25.0->google-cloud-storage) (0.6.0)\n"
          ]
        }
      ]
    },
    {
      "cell_type": "code",
      "source": [
        "from google.cloud import storage"
      ],
      "metadata": {
        "id": "oc7Jfxocb-Jo"
      },
      "execution_count": 7,
      "outputs": []
    },
    {
      "cell_type": "code",
      "source": [
        "# Specify the name of your bucket\n",
        "bucket_name = 'restaurant-dataset'\n",
        "\n",
        "#Specify the path to your JSON configuration file\n",
        "config_file_path = '/content/nyc-restaurants-419717-bdce9165d390.json'\n",
        "\n",
        "# Authenticate using a service account key\n",
        "storage_client = storage.Client.from_service_account_json('/content/nyc-restaurants-419717-bdce9165d390.json')\n",
        "\n",
        "# Access the specified bucket\n",
        "bucket = storage_client.bucket(bucket_name)\n",
        "\n",
        "# Specify the folder name within the bucket\n",
        "folder_name = 'df_raw'\n",
        "\n",
        "#specify name of the CSV file in the bucket\n",
        "blob = bucket.blob (f'{folder_name}/QueensInspect.csv')\n",
        "\n",
        "# Convert DataFrame to CSV\n",
        "output = StringIO()\n",
        "Queens_df.to_csv(output, index = False)\n",
        "data = output.getvalue()\n",
        "output.close()\n",
        "\n",
        "try:\n",
        "    # Upload CSV file to the bucket\n",
        "    blob.upload_from_string(data, content_type='text/csv')\n",
        "    print(\"File uploaded successfully!\")\n",
        "except Exception as e:\n",
        "    print(f\"Error uploading file: {e}\")\n"
      ],
      "metadata": {
        "colab": {
          "base_uri": "https://localhost:8080/"
        },
        "id": "a58VmlXoBA58",
        "outputId": "67b5f04d-2b0c-4455-9a2c-0da745cd9e73"
      },
      "execution_count": 9,
      "outputs": [
        {
          "output_type": "stream",
          "name": "stdout",
          "text": [
            "File uploaded successfully!\n"
          ]
        }
      ]
    }
  ]
}